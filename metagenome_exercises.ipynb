{
 "cells": [
  {
   "cell_type": "markdown",
   "id": "8364fd0a",
   "metadata": {},
   "source": [
    "# An NCBI Guide to Finding and Analyzing Metagenomic Data\n",
    "\n",
    "This Jupyter Notebook contains the instructions for the two hands-on exercises of this workshop:\n",
    "\n",
    "* [Objective 1 - Searching for SRA Data & Metadata on the NCBI Website](#Objective-1) \n",
    "* [Objective 2 - Aligning SRA sequence reads to NCBI databases using MagicBLAST](#Objective-2) \n",
    "\n",
    "**To access the slides for today's workshop, please download them using this link: https://ftp.ncbi.nlm.nih.gov/pub/education/Mod_Workshops/2021/Metagenomics_Oct/**"
   ]
  },
  {
   "cell_type": "markdown",
   "id": "493b0c72",
   "metadata": {},
   "source": [
    "# Objective 0 - What is a Jupyter Notebook\n",
    "\n",
    "Jupyter Notebooks are a web-based approach to interactive code. A single notebook (the file you are currently reading) is composed of many \"cells\" which can contain either text, or code. To navigate between cells, either click, or use the arrow keys on your keyboard.\n",
    "\n",
    "A text cell will look like... well... this! While a code cell will look something like what you see below. To run the code inside a code cell, click on it, then click the \"Run\" button at the top of the screen. Try it on the code cell below!"
   ]
  },
  {
   "cell_type": "code",
   "execution_count": null,
   "id": "19107dd8",
   "metadata": {},
   "outputs": [],
   "source": [
    "#This is a code cell\n",
    "print('You ran the code cell!')"
   ]
  },
  {
   "cell_type": "markdown",
   "id": "3ef60052",
   "metadata": {},
   "source": [
    "If it worked, you should have seen text pop up underneath the cell saying `You ran the code cell!`. Note the `In [1]:` that appeared next to the cell. This tells you the order you have run code cells throughout the notebook. The next time you run a code cell, it will say `In [2]:`, then `In [3]:` and so on... This will help you know if/when code has been run.\n",
    "\n",
    "The remainder of the notebook below has been pre-built by the workshop organizer. You will not need to create any new cells, and you will be explicitly told if/when to execute a code cell.\n",
    "\n",
    "The code in this workshop is either Bash (i.e., terminal commands) or Python. Bash commands are prefixed with `!` while Python commands are not. If you are not familiar with code, don't feel pressured to interpret it very deeply. Descriptions of each code block will be provided!\n",
    "\n",
    "Enjoy!"
   ]
  },
  {
   "cell_type": "markdown",
   "id": "d336a102",
   "metadata": {},
   "source": [
    "# Objective 1 - Searching for SRA Data & Metadata on the NCBI Website <a class=\"anchor\" id=\"Objective-1\"></a>\n",
    "\n",
    "## Objective Goals\n",
    "\n",
    "1. Search the NCBI website for SRA sequence data and BioSample metadata\n",
    "2. Use STAT to gain preliminary insights into sequence read taxonomy distribution"
   ]
  },
  {
   "cell_type": "markdown",
   "id": "a34ae43f",
   "metadata": {},
   "source": [
    "### Step 1\n",
    "\n",
    "Navigate to https://www.ncbi.nlm.nih.gov/\n",
    "\n",
    "### Step 2\n",
    "\n",
    "Use the search bar at the top of the screen to search for the paper's BioProject accession `PRJEB37709`\n",
    "\n",
    "The BioProject page provides some background about the project including:\n",
    "\n",
    "    - Description (in this case, it appears to be the abstract from the paper)\n",
    "    - Submission info (*e.g.*, accession number and submitter information)\n",
    "    - Associated BioProject data (*e.g.* SRA experiments and BioSamples)\n",
    "    \n",
    "### Step 3\n",
    "\n",
    "Click on the `15` next to the BioSample category in the **Project Data** section. This will show us a list of all BioSamples stored in the BioProject\n",
    "\n",
    "We are looking for two samples from this list:\n",
    "\n",
    "    - Patient_B_unaffected_eye\n",
    "    - Patient_B_affected_eye\n",
    "\n",
    "So find those two accessions and open their pages in new tabs. We will do the following steps for each sample, but let's start with `Patient_B_unaffected_eye`.\n",
    "\n",
    "### Step 4\n",
    "\n",
    "The BioSample page contains all of the metadata associated with where/how the sequence reads were obtained\n",
    "\n",
    "To get the SRA run accession (where the actual sequence data is stored), click on the `SRA` button in the **Related Information** tab on the right-hand side of the screen.\n",
    "\n",
    "### Step 5\n",
    "\n",
    "This new SRA page displays the SRA experiment. This is the metadata associated with how the sequence data was generated (*e.g.* sequencing machine, sequencing type, etc.). At the bottom of the page there is a `Runs` section which shows the sequence run accession. Click on that link.\n",
    "\n",
    "### Step 6\n",
    "\n",
    "This page is the SRA Run Browser where we can explore details and statistics about the reads themselves (*e.g.* number of bases, GC content, quality scores, and links back to the parent categories like BioSample and BioProject). This is also where we can see the results from the **STAT** analysis done on the reads.\n",
    "\n",
    "To see the STAT results, click the `Analysis` tab near the top of the page\n",
    "\n",
    "### Step 7\n",
    "\n",
    "The main Analysis page gives a broad overview of the top hits for this accession. We can get a deeper view by clicking the `View in Krona` button, so let's do that.\n",
    "\n",
    "### Step 8\n",
    "\n",
    "This Krona pie-chart is organized so that higher taxonomic groups are in the center of the chart. As you move out towards the edge of the pie-chart, the taxonomic classification will become more specific. You can also click on non-species clades to zoom in on that region of the pie-chart.\n",
    "\n",
    "For example, try finding and clicking on `Proteobacteria` to see the focused list of species present.\n",
    "\n",
    "### Step 9\n",
    "\n",
    "Use the center of the piechart to navigate back to higher-order clades. If you want the original pie-chart, click on the accession number in the middle of the pie-chart.\n",
    "\n",
    "### Step 10\n",
    "\n",
    "Use the navigation skills you've learned for Krona to find the top 5 most abundant bacterial species in this sample. Use the Jupyter Notebook cell below this to write your list so you can refer back to it later!\n",
    "\n",
    "Here are a few hints to help you with your search in these pie-charts:\n",
    "\n",
    "1. Identifying a species segment in the pie-chart can be done in two ways:\n",
    "    - The name is two parts (*e.g. Escherichia coli*)\n",
    "    - Krona will not let you expand that clade like it will with higher-order segments\n",
    "2. The percentages next to each name are adjusted based on which clade you are zoomed into. Be sure you aren't too zoomed in that you miss some bacterial species.\n",
    "3. However, because we are only interested in Bacteria today, you can at least zoom the pie-chart in on the Bacteria level to make it easier to see the species."
   ]
  },
  {
   "cell_type": "markdown",
   "id": "f2fd21b5",
   "metadata": {},
   "source": [
    "### `Patient_B_unaffected_eye` Species Go here:\n",
    "(Double click here to start typing)\n",
    "\n",
    "1. \n",
    "2. \n",
    "3.\n",
    "4.\n",
    "5.\n"
   ]
  },
  {
   "cell_type": "markdown",
   "id": "b1af7989",
   "metadata": {},
   "source": [
    "### Step 11 - Do it again!\n",
    "\n",
    "Repeat the steps above for the other sample `Patient_B_affected_eye` to get it's own list of 5 most abundant species!"
   ]
  },
  {
   "cell_type": "markdown",
   "id": "0e1a442f",
   "metadata": {},
   "source": [
    "### `Patient_B_affected_eye` Species Go Here:\n",
    "(Double click here to start typing)\n",
    "\n",
    "1. \n",
    "2. \n",
    "3. \n",
    "4. \n",
    "5. \n"
   ]
  },
  {
   "cell_type": "markdown",
   "id": "1e35b502",
   "metadata": {},
   "source": [
    "***\n",
    "## END OF OBJECTIVE 1\n",
    "***\n"
   ]
  },
  {
   "cell_type": "markdown",
   "id": "0ed43523",
   "metadata": {},
   "source": [
    "# Objective 2 - Aligning SRA sequence reads to NCBI databases using MagicBLAST <a class=\"anchor\" id=\"Objective-2\"></a>\n",
    "\n",
    "## Objective Goals\n",
    "\n",
    "1. Run MagicBLAST to align SRA reads against an NCBI database\n",
    "2. Compare species distribution from MagicBLAST to preliminary list gathered from STAT"
   ]
  },
  {
   "cell_type": "markdown",
   "id": "18368292",
   "metadata": {},
   "source": [
    "### NOTE\n",
    "\n",
    "In an effort to save time and computational resources, MagicBLAST and the necessary database for today have been pre-installed into this notebook for you. If you want details on how to install MagicBLAST and download NCBI databases please see the official MagicBLAST documentation here: https://ncbi.github.io/magicblast/\n",
    "\n",
    "**The following code block is required for this notebook to run properly. It will allow BLAST to see the database files properly. Please make sure this has run!**"
   ]
  },
  {
   "cell_type": "code",
   "execution_count": null,
   "id": "d81521e9",
   "metadata": {},
   "outputs": [],
   "source": [
    "%env BLASTDB=/srv/data/"
   ]
  },
  {
   "cell_type": "markdown",
   "id": "bdd2ea0f",
   "metadata": {},
   "source": [
    "### Step 1 - Run MagicBLAST\n",
    "\n",
    "First off, we need to run MagicBLAST on each of the accessions so we have some data to use. \n",
    "\n",
    "Remember, from Objective 1 we learned that we want data for two accessions:\n",
    "\n",
    "`Patient_B_unaffected_eye` = `ERR4836973`\n",
    "\n",
    "`Patient_B_affected_eye`   = `ERR4836970`\n",
    "\n",
    "The following code block is pre-written with the correct MagicBLAST command for `Patient_B_affected_eye`. We'll do the full analysis for that accession together. Afterwards I will let you try it yourself with the other sample."
   ]
  },
  {
   "cell_type": "markdown",
   "id": "82c0d5dd",
   "metadata": {},
   "source": [
    "**Use the following code block for Patient_B_affected_eye**\n",
    "\n",
    "**Estimated Time to Run - 10 minutes**"
   ]
  },
  {
   "cell_type": "code",
   "execution_count": null,
   "id": "8457df89",
   "metadata": {},
   "outputs": [],
   "source": [
    "!~/magicblast -db 16S_ribosomal_RNA/16S_ribosomal_RNA -outfmt tabular -out B_affected.tsv \\\n",
    "-num_threads 2 -splice F -limit_lookup F -sra ERR4836970 && echo \"MagicBLAST complete!\""
   ]
  },
  {
   "cell_type": "markdown",
   "id": "5d9a9e30",
   "metadata": {},
   "source": [
    "There are several parameters we are adding with MagicBLAST to make it run the way we want. Here is the list of parameters and what they each do:\n",
    "\n",
    "`-db 16S_ribosomal_RNA/16S_ribosomal_RNA` : This is the location of the database of known sequences that we will be comparing our SRA reads to.\n",
    "\n",
    "`-outfmt tabular` : The standard output format for MagicBLAST results is called \"BAM\" format. To make it easier to read results, we will use this parameter to change the output to a simple tab-delimited table.\n",
    "\n",
    "`-out B_affected.tsv` : This parameter tells MagicBLAST to put our results into a file named \"B_affected.tsv\"\n",
    "\n",
    "`-num_threads 2` : To make the program run faster, everyone will use two threads (similar to using two CPUs) to run the code. This will *almost* run the code 2x faster than if we did not add this parameter.\n",
    "\n",
    "`-splice F` : This parameter disables MagicBLAST from searching for spliced alignments, which is not useful here.\n",
    "\n",
    "`limit_lookup F` : MagicBLAST naturally eliminates sections of sequences from the reference database which overlap (because the same string in multiple sequences is not informative). In our case, a database made entirely of a well-conserved gene will remove too much of the reference sequences giving bad results. So we turn this feature off with this parameter.\n",
    "\n",
    "`-sra ERR4836970` : MagicBLAST can retrieve SRA reads for us, instead of making us download them ourselves. This parameter tells MagicBLAST which SRA accession we want to analyze\n",
    "\n",
    "`&& echo \"MagicBLAST complete!\"` : MagicBLAST won't tell us when it is finished, so I have added an extra command-line command called \"echo\" which adds whatever we tell it to the cell output. So here, I am asking the cell to say \"MagicBLAST complete\" after magicBLAST is done running, just so it's obvious. "
   ]
  },
  {
   "cell_type": "markdown",
   "id": "4dad554c",
   "metadata": {},
   "source": [
    "### Step 2 - Filter the Results\n",
    "\n",
    "Now that we have some data generated, let's try to dissect some information from it using some basic command-line tools. First of all, let's look at our table of results using `head`:"
   ]
  },
  {
   "cell_type": "code",
   "execution_count": null,
   "id": "ecbca730",
   "metadata": {},
   "outputs": [],
   "source": [
    "!head B_affected.tsv"
   ]
  },
  {
   "cell_type": "markdown",
   "id": "8b4cdb64",
   "metadata": {},
   "source": [
    "This table is a bit messy, and much of this data we don't want to look at today. So let's use the tool `cut` to choose which columns in our table we want to look at..."
   ]
  },
  {
   "cell_type": "code",
   "execution_count": null,
   "id": "cbf6ea43",
   "metadata": {},
   "outputs": [],
   "source": [
    "!cut -f 1,2,3 B_affected.tsv > B_affected_trimmed_table.tsv\n",
    "!head B_affected_trimmed_table.tsv"
   ]
  },
  {
   "cell_type": "markdown",
   "id": "6a0bb32f",
   "metadata": {},
   "source": [
    "Now that the table is easier to read, here's what we are looking at:\n",
    "\n",
    "- Column 1 - The Query accession (the specific sequencing read)\n",
    "\n",
    "- Column 2 - The Reference accession (the sequence the read is similar to)\n",
    "\n",
    "- Column 3 - The Percent Identify (one measure of how similar the two seqs are)\n",
    "\n",
    "This is great, but we see that many of the rows are basically empty (*i.e.*, the read didn't align to anything well). So let's use `grep` to filter out the rows where there was no good alignment..."
   ]
  },
  {
   "cell_type": "code",
   "execution_count": null,
   "id": "caba2945",
   "metadata": {},
   "outputs": [],
   "source": [
    "!grep 'NR' B_affected_trimmed_table.tsv > B_affected_hits.tsv\n",
    "!head B_affected_hits.tsv"
   ]
  },
  {
   "cell_type": "markdown",
   "id": "8480cdf5",
   "metadata": {},
   "source": [
    "### Step 3 - Turn Accessions Into Species"
   ]
  },
  {
   "cell_type": "markdown",
   "id": "940c7da7",
   "metadata": {},
   "source": [
    "There is a second BLAST tool, called `blastdbcmd` which can be used to extract information from BLAST databases. We can use it here to transform the reference accessions we have from the table above into a list of species names. This way we can see exactly which species our reads are aligning well with. So let's do it!"
   ]
  },
  {
   "cell_type": "code",
   "execution_count": null,
   "id": "fc9820ca",
   "metadata": {},
   "outputs": [],
   "source": [
    "!cut -f2 B_affected_hits.tsv > B_affected_accs.txt\n",
    "!~/blastdbcmd -entry_batch B_affected_accs.txt -db 16S_ribosomal_RNA/16S_ribosomal_RNA -outfmt \"%L\" -out B_affected_species.txt\n",
    "!head B_affected_species.txt"
   ]
  },
  {
   "cell_type": "markdown",
   "id": "39462126",
   "metadata": {},
   "source": [
    "### Step 4 - Measure Species Abundance\n",
    "\n",
    "Now that we have a list of species, we can add up the number of times each species is present, to see how many reads are associated with each species. We will use a few different terminal commands below to sort (`sort`), count (`uniq`), and display (`head`) this data in a table."
   ]
  },
  {
   "cell_type": "code",
   "execution_count": null,
   "id": "6ba51327",
   "metadata": {},
   "outputs": [],
   "source": [
    "!sort B_affected_species.txt | uniq -c | sort -nr > B_affected_counts.txt\n",
    "!head B_affected_counts.txt"
   ]
  },
  {
   "cell_type": "markdown",
   "id": "53b71308",
   "metadata": {},
   "source": [
    "Finally, we'll use just a little bit of Python to convert those numeric values into percentages. Don't worry about the details here if you aren't familiar with Python, we are just calculating percentages and rewriting the new values to a new file."
   ]
  },
  {
   "cell_type": "code",
   "execution_count": null,
   "id": "615ec5f4",
   "metadata": {},
   "outputs": [],
   "source": [
    "aligned_reads = 0\n",
    "lines = []\n",
    "\n",
    "with open('B_affected_counts.txt', 'r') as infile:\n",
    "    for line in infile:\n",
    "        line = line.strip().split()\n",
    "        aligned_reads += int(line[0])\n",
    "        lines.append(line)\n",
    "        \n",
    "with open('B_affected_percents.txt', 'w') as outfile:\n",
    "    outfile.write('Reads\\tPercent\\tSpecies\\n')\n",
    "    for line in lines:\n",
    "        percent = round(((int(line[0]) / aligned_reads)*100), 2)\n",
    "        species = ' '.join(line[1:])\n",
    "        outfile.write('{0}\\t{1}%\\t{2}\\n'.format(line[0], percent, species))\n",
    "\n",
    "!head B_affected_percents.txt"
   ]
  },
  {
   "cell_type": "markdown",
   "id": "989082f6",
   "metadata": {},
   "source": [
    "### Step 5 - Try it Yourself!\n",
    "\n",
    "Now that you have done the full analysis with the `Patient_B_unaffected_eye` sample, try doing it again with the `Patient_B_unaffected_eye` sample. Like before, the following code block is pre-written with the same MagicBLAST command for the second sample."
   ]
  },
  {
   "cell_type": "markdown",
   "id": "6fa1efd2",
   "metadata": {},
   "source": [
    "**Use the following code block for Patient_B_unaffected_eye**\n",
    "\n",
    "**Estimated Time to Run - 2 minutes**"
   ]
  },
  {
   "cell_type": "code",
   "execution_count": null,
   "id": "8bc394b3",
   "metadata": {},
   "outputs": [],
   "source": [
    "!~/magicblast -db 16S_ribosomal_RNA/16S_ribosomal_RNA -outfmt tabular -out B_unaffected.tsv \\\n",
    "-num_threads 2 -splice F -limit_lookup F -sra ERR4836973 && echo \"MagicBLAST Complete!\""
   ]
  },
  {
   "cell_type": "markdown",
   "id": "b222928d",
   "metadata": {},
   "source": [
    "The next code block is a condensed version of Steps 2-4 from above. After running this code block you should be able to immediately compare the output table to the list of species you made from STAT."
   ]
  },
  {
   "cell_type": "code",
   "execution_count": null,
   "id": "dfb6428e",
   "metadata": {},
   "outputs": [],
   "source": [
    "# Grab necessary columns and rows from results table\n",
    "!cut -f 1,2,3 B_unaffected.tsv | grep 'NR' | cut -f2 > B_unaffected_accs.txt\n",
    "\n",
    "# Grab taxonomic names\n",
    "!~/blastdbcmd -entry_batch B_unaffected_accs.txt -db 16S_ribosomal_RNA/16S_ribosomal_RNA -outfmt \"%L\" -out B_unaffected_species.txt\n",
    "\n",
    "# Sort and count all unique species in the taxonomy list\n",
    "!sort B_unaffected_species.txt | uniq -c | sort -nr > B_unaffected_counts.txt\n",
    "\n",
    "# Convert numbers to percentages\n",
    "aligned_reads = 0\n",
    "lines = []\n",
    "with open('B_unaffected_counts.txt', 'r') as infile:\n",
    "    for line in infile:\n",
    "        line = line.strip().split()\n",
    "        aligned_reads += int(line[0])\n",
    "        lines.append(line)\n",
    "with open('B_unaffected_percents.txt', 'w') as outfile:\n",
    "    outfile.write('Reads\\tPercent\\tSpecies\\n')\n",
    "    for line in lines:\n",
    "        percent = round(((int(line[0]) / aligned_reads)*100), 2)\n",
    "        species = ' '.join(line[1:])\n",
    "        outfile.write('{0}\\t{1}%\\t{2}\\n'.format(line[0], percent, species))\n",
    "\n",
    "!head B_unaffected_percents.txt"
   ]
  },
  {
   "cell_type": "markdown",
   "id": "56de29da",
   "metadata": {},
   "source": [
    "### Step 6 - Compare the Samples\n",
    "\n",
    "We can graphically compare the MagicBLAST results from each sample using a little bit of Python code to convert the percentages in the table into pie-charts. We won't spend a lot of time detailing how the Python code works, but if you are familiar you can explore it yourself!\n",
    "\n",
    "**The name on the outside of the pie-chart is the species name**\n",
    "\n",
    "**The number on the inside is the number of reads associated with that individual in the sample**"
   ]
  },
  {
   "cell_type": "code",
   "execution_count": null,
   "id": "0de51c89",
   "metadata": {
    "scrolled": false
   },
   "outputs": [],
   "source": [
    "import matplotlib.pyplot as plt\n",
    "\n",
    "def parse_percents(filename):\n",
    "    # Parse percents file into two lists for piechart\n",
    "    labels = []\n",
    "    vals = []\n",
    "    with open(filename, 'r') as infile:\n",
    "        next(infile)\n",
    "        for line in infile:\n",
    "            line = line.strip().split('\\t')\n",
    "            #val = float(line[0][:-1])\n",
    "            val = float(line[0])\n",
    "            percent = float(line[1][:-1])\n",
    "            if percent >= 1: # Only take anything 1% abundant or higher... too many isolates otherwise\n",
    "                vals.append(val)\n",
    "                labels.append(line[2])\n",
    "    return labels, vals\n",
    "\n",
    "# Set chart parameters\n",
    "fig, (ax1, ax2) = plt.subplots(ncols=1, nrows=2, figsize=(12,12))\n",
    "\n",
    "\n",
    "# Make affected piechart\n",
    "affected_labels, affected_vals = parse_percents('B_affected_percents.txt')\n",
    "ax1.pie(affected_vals, labels=affected_labels, autopct=lambda p: '{:.0f}'.format(p * sum(affected_vals) / 100), startangle=90)\n",
    "ax1.set_title('Affected Eye', pad=20, size=20)\n",
    "ax1.axis('equal')\n",
    "\n",
    "# Make unaffected piechart\n",
    "unaffected_labels, unaffected_vals = parse_percents('B_unaffected_percents.txt')\n",
    "ax2.pie(unaffected_vals, labels=unaffected_labels, autopct=lambda p: '{:.0f}'.format(p * sum(unaffected_vals) / 100), startangle=90)\n",
    "ax2.set_title('Unaffected Eye', pad=20, size=20)\n",
    "ax2.axis('equal')\n",
    "\n",
    "# Show piecharts\n",
    "plt.tight_layout()\n",
    "plt.show()### Step 6 - Compare to STAT"
   ]
  },
  {
   "cell_type": "markdown",
   "id": "d4273cd3",
   "metadata": {},
   "source": [
    "### Step 7 - Compare to STAT\n",
    "\n",
    "With our new tables of species and their abundance for each sample, let's compare the species we found using MagicBLAST to the ones we found with STAT.\n",
    "\n",
    "Use the Piecharts above to explore your MagicBLAST results.\n",
    "\n",
    "To get the STAT results, scroll up to Objective 1 in this notebook and see the species you typed out.\n",
    "\n",
    "Do you notice any differences in the list of abundant species? What about in their relative abundance (*i.e.* are some species more/less abundant in each set of results?) \n",
    "\n",
    "Use the Notebook cell below to write down your thoughts!"
   ]
  },
  {
   "cell_type": "markdown",
   "id": "c8b2e5cf",
   "metadata": {},
   "source": [
    "### What did you discover?\n",
    "\n",
    "Double-click here to start writing out your thoughts!"
   ]
  }
 ],
 "metadata": {
  "kernelspec": {
   "display_name": "Python 3 (ipykernel)",
   "language": "python",
   "name": "python3"
  },
  "language_info": {
   "codemirror_mode": {
    "name": "ipython",
    "version": 3
   },
   "file_extension": ".py",
   "mimetype": "text/x-python",
   "name": "python",
   "nbconvert_exporter": "python",
   "pygments_lexer": "ipython3",
   "version": "3.7.3"
  }
 },
 "nbformat": 4,
 "nbformat_minor": 5
}

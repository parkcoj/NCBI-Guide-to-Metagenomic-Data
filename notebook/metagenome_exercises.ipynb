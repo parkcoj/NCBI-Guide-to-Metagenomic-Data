{
 "cells": [
  {
   "cell_type": "markdown",
   "id": "8364fd0a",
   "metadata": {},
   "source": [
    "# An NCBI Guide to Finding and Analyzing Metagenomic Data\n",
    "\n",
    "This Jupyter Notebook contains the background and instructions for the hands-on exercises of this workshop:\n",
    "\n",
    "* [Introduction](#Introduction)\n",
    "* [Objective 1 - Searching for SRA Data & Metadata on the NCBI Website](#Objective-1) \n",
    "* [Objective 2 - Exploring Taxonomic Composition of SRA reads using STAT](#Objective-2)\n",
    "* [Objective 3 - Aligning SRA sequence reads to NCBI databases using MagicBLAST](#Objective-3)\n",
    "* [Objective 4 - Compare MagicBLAST and STAT output](#Objective-4)"
   ]
  },
  {
   "cell_type": "markdown",
   "id": "493b0c72",
   "metadata": {},
   "source": [
    "# Objective 0 - What is a Jupyter Notebook\n",
    "\n",
    "Jupyter Notebooks are a web-based approach to interactive code. A single notebook (the file you are currently reading) is composed of many \"cells\" which can contain either text, or code. To navigate between cells, either click, or use the arrow keys on your keyboard.\n",
    "\n",
    "A text cell will look like... well... this! While a code cell will look something like what you see below. To run the code inside a code cell, click on it, then click the \"Run\" button at the top of the screen. Try it on the code cell below!"
   ]
  },
  {
   "cell_type": "code",
   "execution_count": null,
   "id": "19107dd8",
   "metadata": {},
   "outputs": [],
   "source": [
    "#This is a code cell\n",
    "print('You ran the code cell!')"
   ]
  },
  {
   "cell_type": "markdown",
   "id": "3ef60052",
   "metadata": {},
   "source": [
    "If it worked, you should have seen text pop up underneath the cell saying `You ran the code cell!`. Note the `In [1]:` that appeared next to the cell. This tells you the order you have run code cells throughout the notebook. The next time you run a code cell, it will say `In [2]:`, then `In [3]:` and so on... This will help you know if/when code has been run.\n",
    "\n",
    "The remainder of the notebook below has been pre-built by the workshop organizer. You will not need to create any new cells, and you will be explicitly told if/when to execute a code cell.\n",
    "\n",
    "The code in this workshop is either Bash (i.e., terminal commands) or Python. Bash commands are prefixed with `!` while Python commands are not. If you are not familiar with code, don't feel pressured to interpret it very deeply. Descriptions of each code block will be provided!\n",
    "\n",
    "Enjoy!"
   ]
  },
  {
   "cell_type": "markdown",
   "id": "4fbfcd3b-ce04-45ec-8d1e-7282d5a0f824",
   "metadata": {},
   "source": [
    "# Introduction\n",
    "\n",
    "This workshop, and this Jupyter Notebook, is designed to introduce you to how Metagenomic Sequence Data is stored and manipulated within NCBI. The slides from the live introduction can be found along with this notebook in the [`slides.pdf`](./slides.pdf) file (you can also click the filename in this sentence to open it). Briefly, this workshop will use data from a real case study to demonstrate how to find metagenomic data from the Sequence Read Archive database and maniuplate that data using two NCBI tools - STAT & MagicBLAST.\n",
    "\n",
    "## **Case Study**\n",
    "\n",
    "The case study for this workshop involves a single patient named \"Patient B\" who was clinically diagnosed with Microbial Keratitis (bacterial infection of the eye's cornea). This disease is typically caused by three species - *Pseudomonas aeruginosa*, *Staphylococcus aureus*, and *Bacillus subtilis*. However, diagnosis of this disease can be unreliable as it depends on labratory culture tests that are often false-negatives and can take up to 48hrs for complete results. The authors of this case study used metagenomic sequencing of a corneal scraping to characterize potential bacterial contamination of both of Patient B's eyes to help facilitate the potential for diagnosing Microbial Keratitis via sequencing. Today, we will use that same sequence data to validate their results and demonstrate how NCBI tools STAT & MagicBLAST can be used to accomplish similar tasks."
   ]
  },
  {
   "cell_type": "markdown",
   "id": "d336a102",
   "metadata": {
    "jp-MarkdownHeadingCollapsed": true,
    "tags": []
   },
   "source": [
    "# Objective 1 - Searching for SRA Data & Metadata on the NCBI Website <a class=\"anchor\" id=\"Objective-1\"></a>\n",
    "\n",
    "## **Objective Goals**\n",
    "\n",
    "1. Search the NCBI website for SRA sequence data and BioSample metadata\n",
    "2. Use STAT to gain preliminary insights into sequence read taxonomy distribution"
   ]
  },
  {
   "cell_type": "markdown",
   "id": "a34ae43f",
   "metadata": {
    "tags": []
   },
   "source": [
    "### **Step 1 - Get to NCBI**\n",
    "\n",
    "Navigate to https://www.ncbi.nlm.nih.gov/\n",
    "\n",
    "### **Step 2 - Find the BioProject**\n",
    "\n",
    "Using the search bar at the top of the screen, set the database to `BioProject` and type `PRJEB37709` into the search box to look for today's BioProject.\n",
    "\n",
    "<div>\n",
    "<img src=\"img/bioproject.png\", width=\"50%\", border=\"3px solid #555\"/>\n",
    "</div>\n",
    "\n",
    "The BioProject page provides some background about the project including:\n",
    "\n",
    "    - Description (in this case, it appears to be the abstract from the paper)\n",
    "    - Submission info (*e.g.*, accession number and submitter information)\n",
    "    - Associated BioProject data (*e.g.* SRA experiments and BioSamples)\n",
    "\n",
    "<div>\n",
    "    <img src='img/bioproject_page.png', width=\"50%\", height=\"100%\", border=\"3px solid #555\"/>\n",
    "</div>\n",
    "\n",
    "### **Step 3 - Find the BioSamples**\n",
    "\n",
    "Click on the `15` next to the BioSample category in the **Project Data** section. This will show us a list of all BioSamples stored in the BioProject\n",
    "\n",
    "We are looking for two samples from this list:\n",
    "\n",
    "[Patient_B_unaffected_eye](https://www.ncbi.nlm.nih.gov/biosample/16805172)\n",
    "\n",
    "[Patient_B_affected_eye](https://www.ncbi.nlm.nih.gov/biosample/16805169)\n",
    "\n",
    "So find those two accessions and open their pages in new tabs (or open the links above). We will do the following steps for each sample, but let's start with `Patient_B_unaffected_eye` first.\n",
    "\n",
    "### **Step 4 - Find the SRA Experiments**\n",
    "\n",
    "The BioSample page contains all of the metadata associated with where/how the sequence reads were obtained\n",
    "\n",
    "To get the SRA run accession (where the actual sequence data is stored), click on the `SRA` button in the **Related Information** tab on the right-hand side of the screen.\n",
    "\n",
    "<div>\n",
    "    <img src='img/biosample_page.png', width='50%', height='100%', border='3px solid #555'/>\n",
    "</div>\n",
    "\n",
    "### **Step 5 - Find the SRA Runs**\n",
    "\n",
    "This new SRA page displays the SRA experiment. This is the metadata associated with how the sequence data was generated (*e.g.* sequencing machine, sequencing type, etc.). At the bottom of the page there is a `Runs` section which shows the sequence run accession. Click on that link.\n",
    "\n",
    "<div>\n",
    "    <img src='img/experiment_page.png', width='50%', height='100%', border='3px solid #555'/>\n",
    "</div>\n",
    "\n",
    "### **Step 6 - Find the Run Statistics**\n",
    "\n",
    "This page is the SRA Run Browser where we can explore details and statistics about the reads themselves (*e.g.* number of bases, GC content, quality scores, and links back to the parent categories like BioSample and BioProject). This is also where we can see the results from the **STAT** analysis done on the reads.\n",
    "\n",
    "To see the STAT results, click the `Analysis` tab near the top of the page\n",
    "\n",
    "<div>\n",
    "    <img src='img/run_page.png', width='50%', height='100%', border='3px solid #555'/>\n",
    "</div>"
   ]
  },
  {
   "cell_type": "markdown",
   "id": "1e35b502",
   "metadata": {
    "tags": []
   },
   "source": [
    "***\n",
    "## END OF OBJECTIVE 1\n",
    "***\n"
   ]
  },
  {
   "cell_type": "markdown",
   "id": "ad621a59-060a-4855-b755-b5430b7afe03",
   "metadata": {
    "tags": []
   },
   "source": [
    "# Objective 2 - Exploring Taxonomic Composition of SRA reads using STAT <a class=\"anchor\" id=\"Objective-2\"></a>\n",
    "\n",
    "## **Objective Goals**\n",
    "\n",
    "1. Run the SRA Taxonomy Analysis Tool (STAT) on our two case study samples\n",
    "2. Identify abundant species in each sample"
   ]
  },
  {
   "cell_type": "markdown",
   "id": "a59e02cd-0b44-492f-8c21-25010d4f8e48",
   "metadata": {},
   "source": [
    "## **NOTE 1 -** \n",
    "\n",
    "In an effort to save time and computational resources Krona and its supporting software has been preinstalled for this workshop. For full information on downloading Krona for your own uses, see their official documentation here: https://github.com/marbl/Krona/wiki/KronaTools\n",
    "\n",
    "## **NOTE 2 -** \n",
    "\n",
    "Currently the only programmatic way to get the STAT data for visualization from SRA is in the cloud. Cloud data access is outside the scope of this workshop so I have provided the data for use today. For information on accessing that data see here: https://www.ncbi.nlm.nih.gov/sra/docs/sra-cloud/\n",
    "\n",
    "## **Background - SRA and STAT**\n",
    "\n",
    "On our website, the Analysis page gives a broad overview of the top taxonomic hits for this accession thanks to a program designed by the SRA team called STAT.  \n",
    "\n",
    "<div>\n",
    "    <img src='img/STAT.png', width='50%', height='100%', border='3px solid #555'/>\n",
    "</div>\n",
    "\n",
    "<div>\n",
    "    <img src='img/kmers.png', width='50%', height='100%', border='3px solid #555'/>\n",
    "</div>\n",
    "\n",
    "However, the data can be a bit awkward for us to navigate on the web when dealing with metagenomic data. Instead, we can employ another tool called **Krona** to visualize this data in a fun and interactive way."
   ]
  },
  {
   "cell_type": "markdown",
   "id": "78cb6709-23c3-4cec-abdf-7b0bf050c6b9",
   "metadata": {},
   "source": [
    "### **Step 1 - Make a Krona Plot**\n",
    "\n",
    "Along with this Jupyter Notebook I have provided an installation of the `krona` software and a data table for the STAT results for each of the accessions we use today. Run the following block of code to recreate the Krona chart for the `Patient_B_unaffected_eye` sample:"
   ]
  },
  {
   "cell_type": "code",
   "execution_count": null,
   "id": "32afcf05-143b-4f52-ad9d-0ad4eb14f9f3",
   "metadata": {},
   "outputs": [],
   "source": [
    "!~/ktImportTaxonomy -n B_unaffected_stat -o ~/NCBI-Guide-to-Metagenomic-Data/notebook/B_unaffected_stat.html -q 2 -t 1 -s 3 ~/NCBI-Guide-to-Metagenomic-Data/notebook/B_unaffected_stat.txt"
   ]
  },
  {
   "cell_type": "markdown",
   "id": "c9de14c2-ab2d-4252-9981-2247010458be",
   "metadata": {},
   "source": [
    "### **Step 2 - Explore Krona!**\n",
    "\n",
    "1. Open the file `B_unaffected_stat.html` by dragging it from your file browser to the tab toolbar at the top of the lab view. Click the `Trust HTML` button at the top of that page to load the graphics.\n",
    "\n",
    "    This Krona pie-chart is organized so that higher taxonomic groups are in the center of the chart. As you move out towards the edge of the pie-chart, the taxonomic classification will become more specific. You can also click on non-species clades to zoom in on that region of the pie-chart.\n",
    "\n",
    "    For example, try finding and clicking on `Firmicutes` to see the focused list of species present.\n",
    "\n",
    "2. Use the center of the piechart to navigate back to higher-order clades. If you want the original pie-chart, click on the sample ID in the middle of the pie-chart.\n",
    "\n",
    "### **Step 3 - Understand the Sample**\n",
    "\n",
    "Use the navigation skills you've learned for Krona to answer the following questions about this sample. Use the Jupyter Notebook cell below this to write your answers so you can refer back to it later!"
   ]
  },
  {
   "cell_type": "markdown",
   "id": "913c77b3-e484-40bc-88cf-bb85519e9afa",
   "metadata": {
    "tags": []
   },
   "source": [
    "### `Patient_B_unaffected_eye` Q&A Goes here:\n",
    "(Double click here to start typing)\n",
    "\n",
    "1. What is the total `Count` for the entire unaffected eye sample? As a reminder, the `Count` is the total number of Kmer hits found in the sample for a given SRA sample.\n",
    "\n",
    "2. What is the total `Count` for just the Bacteria in the sample?\n",
    "\n",
    "3. There are three species commonly associated with microbial keratitis. Can you find any of them in the sample? If so, what is their count?\n",
    "\n",
    "- Pseudomonas aeruginosa\n",
    "- Staphylococcus aureus\n",
    "- Bacillus subtilis\n",
    "\n"
   ]
  },
  {
   "cell_type": "markdown",
   "id": "5fadbdc5-0205-42c6-a561-26e521496ce2",
   "metadata": {},
   "source": [
    "### **Step 4 - Do it again for the affected eye!**\n",
    "\n",
    "Run the following code block to get a local version of the Krona graph for Patient B's affected eye. After this code runs, open the file `B_affected_stat.html` and answer the same questions for this sample:"
   ]
  },
  {
   "cell_type": "code",
   "execution_count": null,
   "id": "c7f628bd-42b6-475c-b629-3bb4b9e5849d",
   "metadata": {},
   "outputs": [],
   "source": [
    "!~/ktImportTaxonomy -n B_affected_stat -o ~/NCBI-Guide-to-Metagenomic-Data/notebook/B_affected_stat.html -q 2 -t 1 -s 3 ~/NCBI-Guide-to-Metagenomic-Data/notebook/B_affected_stat.txt"
   ]
  },
  {
   "cell_type": "markdown",
   "id": "e2ec74ab-1cfc-49e8-adf2-3997db4ac025",
   "metadata": {
    "tags": []
   },
   "source": [
    "### `Patient_B_affected_eye` Species Go Here:\n",
    "(Double click here to start typing)\n",
    "\n",
    "1. What is the total `Count` for the entire affected eye sample?\n",
    "\n",
    "2. What is the total `Count` for just the Bacteria in the sample?\n",
    "\n",
    "3. There are three species commonly associated with microbial keratitis. Can you find any of them in the sample? If so, what is their count?\n",
    "\n",
    "- Pseudomonas aeruginosa\n",
    "- Staphylococcus aureus\n",
    "- Bacillus subtilis\n",
    "\n"
   ]
  },
  {
   "cell_type": "markdown",
   "id": "4755c44c-f7a6-4848-b167-deddf35c71fd",
   "metadata": {
    "tags": []
   },
   "source": [
    "***\n",
    "## END OF OBJECTIVE 2\n",
    "***\n"
   ]
  },
  {
   "cell_type": "markdown",
   "id": "0ed43523",
   "metadata": {
    "tags": []
   },
   "source": [
    "# Objective 3 - Aligning SRA sequence reads to NCBI databases using MagicBLAST <a class=\"anchor\" id=\"Objective-2\"></a>\n",
    "\n",
    "## **Objective Goals**\n",
    "\n",
    "1. Run MagicBLAST to align SRA reads against an NCBI database\n",
    "2. Visualize the BLAST results using Krona"
   ]
  },
  {
   "cell_type": "markdown",
   "id": "18368292",
   "metadata": {},
   "source": [
    "### **NOTE 1 -**\n",
    "\n",
    "In an effort to save time and computational resources, MagicBLAST and the necessary database for today have been pre-installed into this notebook for you. If you want details on how to install MagicBLAST and download NCBI databases please see the official MagicBLAST documentation here: https://ncbi.github.io/magicblast/"
   ]
  },
  {
   "cell_type": "markdown",
   "id": "f9657615-4290-4590-8cf9-ad172ec37a55",
   "metadata": {},
   "source": [
    "<div>\n",
    "    <img src='img/magicblast1.png', width='50%', height='100%', border='3px solid #555'/>\n",
    "</div>\n",
    "\n",
    "<div>\n",
    "    <img src='img/magicblast2.png', width='50%', height='100%', border='3px solid #555'/>\n",
    "</div>"
   ]
  },
  {
   "cell_type": "markdown",
   "id": "bdd2ea0f",
   "metadata": {},
   "source": [
    "### **Step 1 - Run MagicBLAST**\n",
    "\n",
    "First off, we need to run MagicBLAST on each of the accessions so we have some data to use. \n",
    "\n",
    "Remember, from Objective 1 we learned that we want data for two accessions:\n",
    "\n",
    "`Patient_B_unaffected_eye` = `ERR4836973`\n",
    "\n",
    "`Patient_B_affected_eye`   = `ERR4836970`\n",
    "\n",
    "The following code block is pre-written with the correct MagicBLAST command for `Patient_B_affected_eye`. We'll do the full analysis for that accession together. Afterwards I will let you try it yourself with the other sample.\n",
    "\n",
    "**Use the following code block for Patient_B_affected_eye**\n",
    "\n",
    "**Estimated Time to Run - 10 minutes**"
   ]
  },
  {
   "cell_type": "code",
   "execution_count": null,
   "id": "8457df89",
   "metadata": {},
   "outputs": [],
   "source": [
    "!~/magicblast -db /srv/data/16S_ribosomal_RNA/16S_ribosomal_RNA -outfmt tabular -out B_affected.tsv \\\n",
    "-num_threads 2 -splice F -limit_lookup F -sra ERR4836970 && echo \"MagicBLAST complete!\""
   ]
  },
  {
   "cell_type": "markdown",
   "id": "5d9a9e30",
   "metadata": {},
   "source": [
    "There are several parameters we are adding with MagicBLAST to make it run the way we want. Here is the list of parameters and what they each do:\n",
    "\n",
    "| Parameter | Value | Description |\n",
    "|:----------: | :-----: | :----------- |\n",
    "| **-db** | 16S_ribosomal_RNA/16S_ribosomal_RNA | This is the location of the database of known sequences that we will be comparing our SRA reads to. |\n",
    "| **-outfmt** | tabular | The standard output format for MagicBLAST results is called \"BAM\" format. To make it easier to read results, we will use this parameter to change the output to a simple tab-delimited table. |\n",
    "| **-out** | B_affected.tsv | This parameter tells MagicBLAST to put our results into a file named \"B_affected.tsv\" |\n",
    "|**-num_threads** | 2 | To make the program run faster, everyone will use two threads (similar to using two CPUs) to run the code. This will *almost* run the code 2x faster than if we did not add this parameter. |\n",
    "| **-splice** | F | This parameter disables MagicBLAST from searching for spliced alignments, which is not useful here. |\n",
    "| **-limit_lookup** | F | MagicBLAST naturally eliminates sections of sequences from the reference database which overlap (because the same string in multiple sequences is not informative). In our case, a database made entirely of a well-conserved gene will remove too much of the reference sequences giving bad results. So we turn this feature off with this parameter.|\n",
    "| **-sra** | ERR4836970 | MagicBLAST can retrieve SRA reads for us, instead of making us download them ourselves. This parameter tells MagicBLAST which SRA accession we want to analyze |\n",
    "|**&& echo** | \"MagicBLAST complete!\" | MagicBLAST won't tell us when it is finished, so I have added an extra bash command called \"echo\" which adds whatever we tell it to the cell output. So here, I am asking the cell to say \"MagicBLAST complete\" after magicBLAST is done running, just so it's obvious. |"
   ]
  },
  {
   "cell_type": "markdown",
   "id": "074c8b7c-3e1b-42ff-9c6d-ca1b9726ccbc",
   "metadata": {},
   "source": [
    "### **Step 2 - Make a Krona plot from BLAST results**\n",
    "\n",
    "Now that we have some data generated, we can use Krona again to convert these BLAST results into a Krona chart just like we saw with STAT! The following code block will do that for us..."
   ]
  },
  {
   "cell_type": "code",
   "execution_count": null,
   "id": "167fd9a4-ca57-4d15-b801-c2b7997236db",
   "metadata": {},
   "outputs": [],
   "source": [
    "!~/ktImportBLAST -n B_affected -o ~/NCBI-Guide-to-Metagenomic-Data/notebook/B_affected_magicblast.html ~/NCBI-Guide-to-Metagenomic-Data/notebook/B_affected.tsv"
   ]
  },
  {
   "cell_type": "markdown",
   "id": "b9b107fd-8b57-4bdc-a4a9-35bd4eadb530",
   "metadata": {},
   "source": [
    "### **Step 3 - Do it again!**\n",
    "\n",
    "Great! That was easy, huh? Let's do it again for the unaffected sample now. We'll also add the Krona command to the same code block to save us a click\n",
    "\n",
    "**Use the following code block for Patient_B_unaffected_eye**\n",
    "\n",
    "**Estimated Time to Run - 3 minutes**"
   ]
  },
  {
   "cell_type": "code",
   "execution_count": null,
   "id": "519fd0c2-0364-483a-bb63-57c3cf1c5064",
   "metadata": {},
   "outputs": [],
   "source": [
    "!~/magicblast -db /srv/data/16S_ribosomal_RNA/16S_ribosomal_RNA -outfmt tabular -out B_unaffected.tsv \\\n",
    "-num_threads 2 -splice F -limit_lookup F -sra ERR4836973 && echo \"MagicBLAST Complete!\"\n",
    "\n",
    "!~/ktImportBLAST -n B_unaffected -o ~/NCBI-Guide-to-Metagenomic-Data/notebook/B_unaffected_magicblast.html ~/NCBI-Guide-to-Metagenomic-Data/notebook/B_unaffected.tsv"
   ]
  },
  {
   "cell_type": "markdown",
   "id": "d3753dfe-2a22-44a2-a044-9ff4c660d0c3",
   "metadata": {},
   "source": [
    "### **Step 4 - MagicBLAST affected vs unaffected eyes**\n",
    "\n",
    "We have our data! Now let's take a look at the difference in samples from our MagicBLAST results. Open each of the Krona views side-by-side and let's explore the difference"
   ]
  },
  {
   "cell_type": "markdown",
   "id": "5cda5fd9-7cea-4198-b9d7-e2b28e7a494e",
   "metadata": {
    "tags": []
   },
   "source": [
    "#### Questions to consider...\n",
    "\n",
    "1. How many \"hits\" are there in each sample (check the \"count\" value in the top-right corner)? What can this tell us about the samples already?\n",
    "\n",
    "2. Look for the 3 common bacteria for microbial keratitis (bacillus subtilis, staphylococcus aureus, pseudomonas aeruginosa). What are their counts in each sample, if any?\n",
    "\n",
    "3. Why would there be bacterial sequences in the **unaffected** eye? Does this impact our understanding of the patient?\n",
    "    - Note: There is no \"correct\" answer to this one, but we should think about these things as scientists!"
   ]
  },
  {
   "cell_type": "markdown",
   "id": "c37d19a9-ff7d-43e7-8f8a-2559e267b0e2",
   "metadata": {
    "tags": []
   },
   "source": [
    "***\n",
    "## END OF OBJECTIVE 3\n",
    "***\n"
   ]
  },
  {
   "cell_type": "markdown",
   "id": "84bb20c1-c8e8-4c77-8ee9-f16b4d6abc71",
   "metadata": {
    "tags": []
   },
   "source": [
    "# Objective 4 - Compare MagicBLAST and STAT output\n",
    "\n",
    "## **Objective Goals:**\n",
    "\n",
    "1. Compare species distribution from MagicBLAST to preliminary list gathered from STAT\n",
    "2. Understand the influence of kmer vs alignment based methods on metagenomic abundance calculations"
   ]
  },
  {
   "cell_type": "markdown",
   "id": "d231a83b-8d98-4a1d-8016-b074a6f49360",
   "metadata": {},
   "source": [
    "## **How do MagicBLAST and STAT compare?**\n",
    "\n",
    "Now that we've analyzed the same data in two different ways... there's an obvious question - \"Which method is best?\"\n",
    "\n",
    "Well, the answer may be more complicated than you think! For example, consider these 4 major ways that MagicBLAST differs from STAT in analyzing these samples -\n",
    "\n",
    "| Feature | MagicBLAST | STAT |\n",
    "|:--------|:----------:|:----:|\n",
    "| Search Method | BLAST Alignments | Kmer hit abundance |\n",
    "| Reference Source | RefSeq 16S | Entire RefSeq DB + viruses |\n",
    "| Hit Taxonomy | Species level | Any possible taxa level |\n",
    "| Krona \"Count\" Definition |Num. reads with best hit as taxa |  Num. Kmer hits in SRA run  |\n",
    "\n",
    "While these differences don't make the question irrelevant, it's important to consider them when we make this comparison. With that being said, let's look at these Krona charts side-by-side and see what they can tell us about the samples, and our analyses."
   ]
  },
  {
   "cell_type": "markdown",
   "id": "9c841fc3-bd8f-4f9b-86fc-17b448a2efd9",
   "metadata": {},
   "source": [
    "## **Step... The only one - Do the objective!**\n",
    "\n",
    "The last thing we want to do today is compare MagicBLAST and STAT! Open the Krona graph for each method's **affected** eye side-by-side and let's see what we can learn!"
   ]
  },
  {
   "cell_type": "markdown",
   "id": "445095cf-74a5-4684-bdf8-8a80aac768f3",
   "metadata": {},
   "source": [
    "#### Questions to consider...\n",
    "\n",
    "1. How do the \"counts\" differ between the two methods? Do they mean the same thing? What can this tell us about the methods?\n",
    "\n",
    "2. How similar are the species predictions? In particular, how well is the suspected case study culprit, *B. subtilis* represented in each method?\n",
    "\n",
    "3. Does STAT accomplish its goal of being a good \"first pass\" for an SRA sample to detect contamination and general taxonomic composition?\n",
    "\n",
    "4. Ultimately, how did each tool do at answering the questions of our case study?\n",
    "    - \"Is the taxonomic distribution of each \"cornea\" microbiome\" different between each eye?\"\n",
    "    - \"Do the taxonomic distributions of the eyes match our expectations for healthy and infected eyes?\""
   ]
  },
  {
   "cell_type": "markdown",
   "id": "d8eb68e9-0fd2-4456-983d-7152a24824bc",
   "metadata": {
    "tags": []
   },
   "source": [
    "***\n",
    "## END OF OBJECTIVE 4\n",
    "***\n"
   ]
  },
  {
   "cell_type": "markdown",
   "id": "0892e132-40f7-4d29-a705-84c5bff7f7f2",
   "metadata": {},
   "source": [
    "# Conclusions\n",
    "\n",
    "This concludes our look on finding and analyzing metagenomic data with NCBI! Let's recap some of the things we covered today:\n",
    "\n",
    "1. Metagenomic data is stored primarily in the Sequence Read Archive (SRA) database due to the size and nature of the data\n",
    "2. SRA data is organized into 4 hierarchical layers - BioProject, BioSample, SRA Experiment, and SRA Run. Sequencing data is stored in the SRA run layer.\n",
    "3. STAT is a tool designed by SRA developers to quickly catalog the taxonomic abundance/distribution of every SRA accession at NCBI using a kmer comparison approach.\n",
    "4. MagicBLAST is a tool by the BLAST team which allows for BLAST alignments of SRA reads against traditional SRA databases like the 16S rRNA database used today.\n",
    "5. While STAT and MagicBLAST can provide similar surface-level results, alignment-based approaches like MagicBLAST can offer more refined results with the right reference dataset... and patience."
   ]
  },
  {
   "cell_type": "markdown",
   "id": "d567240a-2ebe-4810-8092-27c33dcb12d3",
   "metadata": {},
   "source": [
    "# Advanced Metagenomics with NCBI\n",
    "\n",
    "Here are some bonus thoughts to consider on how to use NCBI to further your metagenomic research:\n",
    "\n",
    "- Use MagicBLAST to align WGS metagenome datasets\n",
    "    - Functional Profiling\n",
    "    - Higher accuracy taxonomic characterization\n",
    "- Use STAT to filter SRA sequences to fit your next project\n",
    "    - Explore in-depth SRA STAT metadata in the cloud! See here for full information - https://www.ncbi.nlm.nih.gov/sra/docs/sra-cloud-based-examples/\n",
    "- Submit your sequences to SRA!\n",
    "    - Plus, now you have no excuse to not provide valuable metadata ;)"
   ]
  }
 ],
 "metadata": {
  "kernelspec": {
   "display_name": "Python 3 (ipykernel)",
   "language": "python",
   "name": "python3"
  },
  "language_info": {
   "codemirror_mode": {
    "name": "ipython",
    "version": 3
   },
   "file_extension": ".py",
   "mimetype": "text/x-python",
   "name": "python",
   "nbconvert_exporter": "python",
   "pygments_lexer": "ipython3",
   "version": "3.9.7"
  }
 },
 "nbformat": 4,
 "nbformat_minor": 5
}
